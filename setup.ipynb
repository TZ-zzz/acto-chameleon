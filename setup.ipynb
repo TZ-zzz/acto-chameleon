{
 "cells": [
  {
   "cell_type": "markdown",
   "id": "77458944-ecee-4cae-be54-74d0a5b07bac",
   "metadata": {},
   "source": [
    "# Artifact Evaluation Instructions for \"Acto: Push-Button End-to-End Testing of Kubernetes Operators and Controllers\""
   ]
  },
  {
   "cell_type": "markdown",
   "id": "85ffa975-3b98-4d7f-8dc4-5f95ab5190c0",
   "metadata": {},
   "source": [
    "## Create experiment container\n",
    "\n",
    "This container provides the following:\n",
    "\n",
    "- One node of type \"compute_skylake\" ([see all types](https://chameleoncloud.readthedocs.io/en/latest/technical/reservations.html#chameleon-node-types))\n",
    "- One public IP\n",
    "\n",
    "### Configuration\n",
    "\n",
    "Enter your project ID in the code block below, if you are not a member of `CHI-231080`."
   ]
  },
  {
   "cell_type": "code",
   "execution_count": null,
   "id": "666b6774-4a7e-4faa-b6ac-dc99be7ffcda",
   "metadata": {},
   "outputs": [],
   "source": [
    "import chi\n",
    "\n",
    "chi.use_site(\"CHI@UC\")\n",
    "chi.set(\"project_name\", \"CHI-231080\")\n",
    "\n",
    "print(f'Using Project {chi.get(\"project_name\")}')"
   ]
  },
  {
   "cell_type": "markdown",
   "id": "5e853b46-2e6a-4748-ad32-73b0c52af89c",
   "metadata": {},
   "source": [
    "### Create reservation\n",
    "\n",
    "Chameleon resources need to be reserved before they can be used. \n",
    "We will reserve one bare metal node and one public IP address, for right now.\n",
    "\n",
    "If you get an error such as \"no host availiable\", it may be the case that all of our nodes are reserved. Check the availiablility calendar to see if this is true:\n",
    "https://chi.uc.chameleoncloud.org/project/leases/calendar/host/\n",
    "\n",
    "It may take around a minute or so for your lease to become active."
   ]
  },
  {
   "cell_type": "code",
   "execution_count": null,
   "id": "1abf3c44-bfda-4ba8-bce4-5d5ec29d65e4",
   "metadata": {},
   "outputs": [],
   "source": [
    "import os\n",
    "\n",
    "USER = os.getenv('USER')"
   ]
  },
  {
   "cell_type": "code",
   "execution_count": null,
   "id": "a98e7409-27e2-4c86-ae20-a0f3004408c0",
   "metadata": {},
   "outputs": [],
   "source": [
    "import os\n",
    "import keystoneauth1, blazarclient\n",
    "from chi import lease\n",
    "\n",
    "reservations = []\n",
    "lease_node_type = \"compute_cascadelake_r\"\n",
    "\n",
    "try:\n",
    "    print(\"Creating lease...\")\n",
    "    lease.add_fip_reservation(reservations, count=1)\n",
    "    lease.add_node_reservation(reservations, node_type=lease_node_type, count=1)\n",
    "\n",
    "    start_date, end_date = lease.lease_duration(hours=3)\n",
    "\n",
    "    l = lease.create_lease(\n",
    "        f\"{os.getenv('USER')}-power-management\", \n",
    "        reservations, \n",
    "        start_date=start_date, \n",
    "        end_date=end_date\n",
    "    )\n",
    "    lease_id = l[\"id\"]\n",
    "\n",
    "    print(\"Waiting for lease to start ...\")\n",
    "    lease.wait_for_active(lease_id)\n",
    "    print(\"Lease is now active!\")\n",
    "except keystoneauth1.exceptions.http.Unauthorized as e:\n",
    "    print(\"Unauthorized.\\nDid set your project name and and run the code in the first cell?\")\n",
    "except blazarclient.exception.BlazarClientException as e:\n",
    "    print(f\"There is an issue making the reservation. Check the calendar to make sure a {lease_node_type} node is available.\")\n",
    "    print(\"https://chi.uc.chameleoncloud.org/project/leases/calendar/host/\")\n",
    "    print(e)\n",
    "except Exception as e:\n",
    "    print(\"An unexpected error happened.\")\n",
    "    print(e)"
   ]
  },
  {
   "cell_type": "markdown",
   "id": "8ff2aa5a-66a2-4f70-abfb-b69c4b290589",
   "metadata": {},
   "source": [
    "### Provision bare metal node\n",
    "\n",
    "Next, we will launch the reserved node with an image. \n",
    "It will take approximately 10 minutes for the bare metal node to be successfully provisioned. \n",
    "\n",
    "This step takes the longest. First, our controller node must configure the requested node, which first sets up a deploy image. This image then downloads and copies the real image onto the hard drive, and the node is configured to reboot to the new OS. \n",
    "\n",
    "You can browse the images we offer in our appliance catalog: http://chameleoncloud.org/appliances"
   ]
  },
  {
   "cell_type": "code",
   "execution_count": null,
   "id": "41e4a958-96de-45b7-a7c6-1540923d0e45",
   "metadata": {},
   "outputs": [],
   "source": [
    "from chi import server, lease\n",
    "\n",
    "image = \"CC-Ubuntu22.04\"\n",
    "\n",
    "s = server.create_server(\n",
    "    f\"{os.getenv('USER')}-power-management\", \n",
    "    image_name=image,\n",
    "    reservation_id=lease.get_node_reservation(lease_id)\n",
    ")\n",
    "\n",
    "print(\"Waiting for server to start ...\")\n",
    "server.wait_for_active(s.id)\n",
    "print(\"Done\")"
   ]
  },
  {
   "cell_type": "code",
   "execution_count": null,
   "id": "d16dc70a-770a-4e2b-b9f1-bdb12c4c90a6",
   "metadata": {},
   "outputs": [],
   "source": [
    "floating_ip = lease.get_reserved_floating_ips(lease_id)[0]\n",
    "with open(\"floating_ip.txt\", \"w\") as f:\n",
    "    f.write(f\"{floating_ip}\")\n",
    "server.associate_floating_ip(s.id, floating_ip_address=floating_ip)\n",
    "\n",
    "print(f\"Waiting for SSH connectivity on {floating_ip} ...\")\n",
    "timeout = 60*2\n",
    "import socket\n",
    "import time\n",
    "# Repeatedly try to connect via SSH.\n",
    "start_time = time.perf_counter()\n",
    "while True:\n",
    "    try:\n",
    "        with socket.create_connection((floating_ip, 22), timeout=timeout):\n",
    "            print(\"Connection successful\")\n",
    "            break\n",
    "    except OSError as ex:\n",
    "        time.sleep(10)\n",
    "        if time.perf_counter() - start_time >= timeout:\n",
    "            print(f\"After {timeout} seconds, could not connect via SSH. Please try again.\")"
   ]
  },
  {
   "cell_type": "markdown",
   "id": "cd683c3b-4729-4b05-af71-4955a157e189",
   "metadata": {},
   "source": [
    "## Setup environment in the node (~10 minute)"
   ]
  },
  {
   "cell_type": "code",
   "execution_count": null,
   "id": "8312783b-104b-4631-8dd2-527a0e6e997d",
   "metadata": {},
   "outputs": [],
   "source": [
    "from chi import ssh\n",
    "import subprocess\n",
    "import sys\n",
    "from os.path import expanduser\n",
    "\n",
    "subprocess.check_call([sys.executable, \"-m\", \"pip\", \"install\", \"ansible\"])\n",
    "subprocess.run([\"ansible-galaxy\", \"collection\", \"install\", \"ansible.posix\"])\n",
    "subprocess.run([\"ansible-galaxy\", \"collection\", \"install\", \"community.general\"])\n",
    "\n",
    "with open(\"./ansible/ansible_hosts\", mode=\"w\") as f:\n",
    "    f.write(\"{} ansible_connection=ssh ansible_user=cc ansible_port=22\".format(floating_ip))\n",
    "\n",
    "if not os.path.exists(expanduser(\"~\") + \"/.ssh\"):\n",
    "    os.system(\"mkdir $HOME/.ssh\")\n",
    "\n",
    "os.system(\"ssh-keyscan \"+ floating_ip + \" >> $HOME/.ssh/known_hosts\")\n",
    "    \n",
    "subprocess.run([\"ansible-playbook\", \"-i\", \"./ansible/ansible_hosts\", \"./ansible/configure.yaml\", \"--key-file\", \"$HOME/work/.ssh/id_rsa\"])"
   ]
  },
  {
   "cell_type": "code",
   "execution_count": null,
   "id": "6d5c9a07-0522-4797-85e3-bb3d1cb272aa",
   "metadata": {},
   "outputs": [],
   "source": [
    "with ssh.Remote(floating_ip) as conn:\n",
    "    conn.put(\"requirements.sh\")\n",
    "    conn.run(\"bash requirements.sh\")"
   ]
  },
  {
   "cell_type": "markdown",
   "id": "ba02ee58-3571-4565-bd2c-713066c59753",
   "metadata": {},
   "source": [
    "## Run the experiment\n",
    "Following the instructions, you will reproduce all the bugs (56 in total) that found by Acto and confirmed by developpers.\n",
    "\n",
    "The process will take approximately 6 hours. "
   ]
  },
  {
   "cell_type": "code",
   "execution_count": null,
   "id": "82bfeeb9-1f78-4c79-b96a-4d59cdddf8e6",
   "metadata": {
    "tags": []
   },
   "outputs": [],
   "source": [
    "with ssh.Remote(floating_ip) as conn:\n",
    "    conn.put(\"start_acto.sh\")\n",
    "    print(\"Start reproducing all bugs...\")\n",
    "    print(\"Please wait 6 hours...\")\n",
    "    conn.run(\"bash start_acto.sh\", disown=True)"
   ]
  },
  {
   "cell_type": "markdown",
   "id": "372ca7a6",
   "metadata": {},
   "source": [
    "# Generate Results\n",
    "\n",
    "The following commands can run independently and will gather all the results from the reproduction. It will generate Tables 5, 6, 7, and 8 of the paper."
   ]
  },
  {
   "cell_type": "code",
   "execution_count": null,
   "id": "4d9bdb0e-dbca-4b7b-8523-57690df88958",
   "metadata": {},
   "outputs": [],
   "source": [
    "from chi import ssh\n",
    "\n",
    "with open(\"floating_ip.txt\", \"r\") as f:\n",
    "    floating_ip = f.read().strip()\n",
    "    \n",
    "with ssh.Remote(floating_ip) as conn:\n",
    "    conn.get(\"./workdir/acto/table5.txt\")\n",
    "    conn.get(\"./workdir/acto/table6.txt\")\n",
    "    conn.get(\"./workdir/acto/table7.txt\")\n",
    "    \n",
    "with open('table5.txt', 'r') as f:\n",
    "    print(\"Table 5:\\n\" + f.read() + \"\\n\")\n",
    "    \n",
    "with open('table6.txt', 'r') as f:\n",
    "    print(\"Table 6:\\n\" + f.read() + \"\\n\")\n",
    "    \n",
    "with open('table7.txt', 'r') as f:\n",
    "    print(\"Table 7:\\n\" + f.read() + \"\\n\")\n",
    "    \n",
    "with ssh.Remote(floating_ip) as conn:\n",
    "    print(\"Table 8:\")\n",
    "    conn.run(\"cd ./workdir/acto/ && python3 collect_number_of_ops.py\")"
   ]
  }
 ],
 "metadata": {
  "kernelspec": {
   "display_name": "Python 3 (ipykernel)",
   "language": "python",
   "name": "python3"
  },
  "language_info": {
   "codemirror_mode": {
    "name": "ipython",
    "version": 3
   },
   "file_extension": ".py",
   "mimetype": "text/x-python",
   "name": "python",
   "nbconvert_exporter": "python",
   "pygments_lexer": "ipython3",
   "version": "3.10.9"
  }
 },
 "nbformat": 4,
 "nbformat_minor": 5
}
