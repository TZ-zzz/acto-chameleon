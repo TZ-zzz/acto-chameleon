{
 "cells": [
  {
   "cell_type": "markdown",
   "id": "77458944-ecee-4cae-be54-74d0a5b07bac",
   "metadata": {},
   "source": [
    "# Artifact Evaluation Instructions for \"Acto: Push-Button End-to-End Testing of Kubernetes Operators and Controllers\""
   ]
  },
  {
   "cell_type": "markdown",
   "id": "85ffa975-3b98-4d7f-8dc4-5f95ab5190c0",
   "metadata": {},
   "source": [
    "## Create experiment container\n",
    "\n",
    "This container provides the following:\n",
    "\n",
    "- One node of type \"compute_skylake\" ([see all types](https://chameleoncloud.readthedocs.io/en/latest/technical/reservations.html#chameleon-node-types))\n",
    "- One public IP\n",
    "\n",
    "### Configuration\n",
    "\n",
    "Enter your project ID in the code block below, if you are not a member of `CHI-231080`."
   ]
  },
  {
   "cell_type": "code",
   "execution_count": 1,
   "id": "666b6774-4a7e-4faa-b6ac-dc99be7ffcda",
   "metadata": {},
   "outputs": [
    {
     "name": "stdout",
     "output_type": "stream",
     "text": [
      "Now using CHI@UC:\n",
      "URL: https://chi.uc.chameleoncloud.org\n",
      "Location: Argonne National Laboratory, Lemont, Illinois, USA\n",
      "Support contact: help@chameleoncloud.org\n",
      "Using Project CHI-231080\n"
     ]
    }
   ],
   "source": [
    "import chi\n",
    "\n",
    "chi.use_site(\"CHI@UC\")\n",
    "chi.set(\"project_name\", \"CHI-231080\")\n",
    "\n",
    "print(f'Using Project {chi.get(\"project_name\")}')"
   ]
  },
  {
   "cell_type": "markdown",
   "id": "5e853b46-2e6a-4748-ad32-73b0c52af89c",
   "metadata": {},
   "source": [
    "### Create reservation\n",
    "\n",
    "Chameleon resources need to be reserved before they can be used. \n",
    "We will reserve one bare metal node and one public IP address, for right now.\n",
    "\n",
    "If you get an error such as \"no host availiable\", it may be the case that all of our nodes are reserved. Check the availiablility calendar to see if this is true:\n",
    "https://chi.uc.chameleoncloud.org/project/leases/calendar/host/\n",
    "\n",
    "It may take around a minute or so for your lease to become active."
   ]
  },
  {
   "cell_type": "code",
   "execution_count": 2,
   "id": "1abf3c44-bfda-4ba8-bce4-5d5ec29d65e4",
   "metadata": {},
   "outputs": [],
   "source": [
    "import os\n",
    "\n",
    "USER = os.getenv('USER')"
   ]
  },
  {
   "cell_type": "code",
   "execution_count": 3,
   "id": "a98e7409-27e2-4c86-ae20-a0f3004408c0",
   "metadata": {},
   "outputs": [
    {
     "name": "stdout",
     "output_type": "stream",
     "text": [
      "Creating lease...\n",
      "Waiting for lease to start ...\n",
      "Lease is now active!\n"
     ]
    }
   ],
   "source": [
    "import os\n",
    "import keystoneauth1, blazarclient\n",
    "from chi import lease\n",
    "\n",
    "reservations = []\n",
    "lease_node_type = \"compute_cascadelake_r\"\n",
    "\n",
    "try:\n",
    "    print(\"Creating lease...\")\n",
    "    lease.add_fip_reservation(reservations, count=1)\n",
    "    lease.add_node_reservation(reservations, node_type=lease_node_type, count=1)\n",
    "\n",
    "    start_date, end_date = lease.lease_duration(hours=3)\n",
    "\n",
    "    l = lease.create_lease(\n",
    "        f\"{os.getenv('USER')}-power-management\", \n",
    "        reservations, \n",
    "        start_date=start_date, \n",
    "        end_date=end_date\n",
    "    )\n",
    "    lease_id = l[\"id\"]\n",
    "\n",
    "    print(\"Waiting for lease to start ...\")\n",
    "    lease.wait_for_active(lease_id)\n",
    "    print(\"Lease is now active!\")\n",
    "except keystoneauth1.exceptions.http.Unauthorized as e:\n",
    "    print(\"Unauthorized.\\nDid set your project name and and run the code in the first cell?\")\n",
    "except blazarclient.exception.BlazarClientException as e:\n",
    "    print(f\"There is an issue making the reservation. Check the calendar to make sure a {lease_node_type} node is available.\")\n",
    "    print(\"https://chi.uc.chameleoncloud.org/project/leases/calendar/host/\")\n",
    "    print(e)\n",
    "except Exception as e:\n",
    "    print(\"An unexpected error happened.\")\n",
    "    print(e)"
   ]
  },
  {
   "cell_type": "markdown",
   "id": "8ff2aa5a-66a2-4f70-abfb-b69c4b290589",
   "metadata": {},
   "source": [
    "### Provision bare metal node\n",
    "\n",
    "Next, we will launch the reserved node with an image. \n",
    "It will take approximately 10 minutes for the bare metal node to be successfully provisioned. \n",
    "\n",
    "This step takes the longest. First, our controller node must configure the requested node, which first sets up a deploy image. This image then downloads and copies the real image onto the hard drive, and the node is configured to reboot to the new OS. \n",
    "\n",
    "You can browse the images we offer in our appliance catalog: http://chameleoncloud.org/appliances"
   ]
  },
  {
   "cell_type": "code",
   "execution_count": 4,
   "id": "41e4a958-96de-45b7-a7c6-1540923d0e45",
   "metadata": {},
   "outputs": [
    {
     "name": "stdout",
     "output_type": "stream",
     "text": [
      "Waiting for server to start ...\n",
      "Done\n"
     ]
    }
   ],
   "source": [
    "from chi import server, lease\n",
    "\n",
    "image = \"CC-Ubuntu22.04\"\n",
    "\n",
    "s = server.create_server(\n",
    "    f\"{os.getenv('USER')}-power-management\", \n",
    "    image_name=image,\n",
    "    reservation_id=lease.get_node_reservation(lease_id)\n",
    ")\n",
    "\n",
    "print(\"Waiting for server to start ...\")\n",
    "server.wait_for_active(s.id)\n",
    "print(\"Done\")"
   ]
  },
  {
   "cell_type": "code",
   "execution_count": 5,
   "id": "d16dc70a-770a-4e2b-b9f1-bdb12c4c90a6",
   "metadata": {},
   "outputs": [
    {
     "name": "stdout",
     "output_type": "stream",
     "text": [
      "Waiting for SSH connectivity on 192.5.87.208 ...\n",
      "After 120 seconds, could not connect via SSH. Please try again.\n",
      "After 120 seconds, could not connect via SSH. Please try again.\n",
      "After 120 seconds, could not connect via SSH. Please try again.\n",
      "Connection successful\n"
     ]
    }
   ],
   "source": [
    "floating_ip = lease.get_reserved_floating_ips(lease_id)[0]\n",
    "with open(\"floating_ip.txt\", \"w\") as f:\n",
    "    f.write(f\"{floating_ip}\")\n",
    "server.associate_floating_ip(s.id, floating_ip_address=floating_ip)\n",
    "\n",
    "print(f\"Waiting for SSH connectivity on {floating_ip} ...\")\n",
    "timeout = 60*2\n",
    "import socket\n",
    "import time\n",
    "# Repeatedly try to connect via SSH.\n",
    "start_time = time.perf_counter()\n",
    "while True:\n",
    "    try:\n",
    "        with socket.create_connection((floating_ip, 22), timeout=timeout):\n",
    "            print(\"Connection successful\")\n",
    "            break\n",
    "    except OSError as ex:\n",
    "        time.sleep(10)\n",
    "        if time.perf_counter() - start_time >= timeout:\n",
    "            print(f\"After {timeout} seconds, could not connect via SSH. Please try again.\")"
   ]
  },
  {
   "cell_type": "markdown",
   "id": "cd683c3b-4729-4b05-af71-4955a157e189",
   "metadata": {},
   "source": [
    "## Setup environment in the node (~10 minute)"
   ]
  },
  {
   "cell_type": "code",
   "execution_count": 6,
   "id": "8312783b-104b-4631-8dd2-527a0e6e997d",
   "metadata": {},
   "outputs": [
    {
     "name": "stdout",
     "output_type": "stream",
     "text": [
      "Requirement already satisfied: ansible in /opt/conda/lib/python3.10/site-packages (2.10.7)\n",
      "Requirement already satisfied: ansible-base<2.11,>=2.10.5 in /opt/conda/lib/python3.10/site-packages (from ansible) (2.10.17)\n",
      "Requirement already satisfied: PyYAML in /opt/conda/lib/python3.10/site-packages (from ansible-base<2.11,>=2.10.5->ansible) (5.3.1)\n",
      "Requirement already satisfied: packaging in /opt/conda/lib/python3.10/site-packages (from ansible-base<2.11,>=2.10.5->ansible) (23.0)\n",
      "Requirement already satisfied: jinja2 in /opt/conda/lib/python3.10/site-packages (from ansible-base<2.11,>=2.10.5->ansible) (3.0.1)\n",
      "Requirement already satisfied: cryptography in /opt/conda/lib/python3.10/site-packages (from ansible-base<2.11,>=2.10.5->ansible) (3.4.8)\n",
      "Requirement already satisfied: cffi>=1.12 in /opt/conda/lib/python3.10/site-packages (from cryptography->ansible-base<2.11,>=2.10.5->ansible) (1.14.6)\n",
      "Requirement already satisfied: MarkupSafe>=2.0 in /opt/conda/lib/python3.10/site-packages (from jinja2->ansible-base<2.11,>=2.10.5->ansible) (2.0.1)\n",
      "Requirement already satisfied: pycparser in /opt/conda/lib/python3.10/site-packages (from cffi>=1.12->cryptography->ansible-base<2.11,>=2.10.5->ansible) (2.20)\n",
      "Starting galaxy collection install process\n",
      "Process install dependency map\n",
      "Starting collection install process\n",
      "Installing 'ansible.posix:1.5.4' to '/home/zhent6_illinois_edu/.ansible/collections/ansible_collections/ansible/posix'\n",
      "Downloading https://galaxy.ansible.com/api/v3/plugin/ansible/content/published/collections/artifacts/ansible-posix-1.5.4.tar.gz to /home/zhent6_illinois_edu/.ansible/tmp/ansible-local-1294d8wt5hw/tmp8ul9hr_2\n",
      "ansible.posix (1.5.4) was installed successfully\n",
      "Starting galaxy collection install process\n",
      "Process install dependency map\n",
      "Starting collection install process\n",
      "Installing 'community.general:9.1.0' to '/home/zhent6_illinois_edu/.ansible/collections/ansible_collections/community/general'\n",
      "Downloading https://galaxy.ansible.com/api/v3/plugin/ansible/content/published/collections/artifacts/community-general-9.1.0.tar.gz to /home/zhent6_illinois_edu/.ansible/tmp/ansible-local-130pewcxgzd/tmpj5m_a8mz\n",
      "community.general (9.1.0) was installed successfully\n"
     ]
    },
    {
     "name": "stderr",
     "output_type": "stream",
     "text": [
      "# 192.5.87.208:22 SSH-2.0-OpenSSH_8.9p1 Ubuntu-3ubuntu0.6\n",
      "# 192.5.87.208:22 SSH-2.0-OpenSSH_8.9p1 Ubuntu-3ubuntu0.6\n",
      "# 192.5.87.208:22 SSH-2.0-OpenSSH_8.9p1 Ubuntu-3ubuntu0.6\n",
      "# 192.5.87.208:22 SSH-2.0-OpenSSH_8.9p1 Ubuntu-3ubuntu0.6\n",
      "# 192.5.87.208:22 SSH-2.0-OpenSSH_8.9p1 Ubuntu-3ubuntu0.6\n"
     ]
    },
    {
     "name": "stdout",
     "output_type": "stream",
     "text": [
      "\n",
      "PLAY [Install everything] ******************************************************\n",
      "\n",
      "TASK [Gathering Facts] *********************************************************\n",
      "ok: [192.5.87.208]\n",
      "\n",
      "PLAY [Mount file systems] ******************************************************\n",
      "\n",
      "TASK [Gathering Facts] *********************************************************\n",
      "ok: [192.5.87.208]\n",
      "\n",
      "TASK [Mount tmpfs on docker path /var/lib/docker] ******************************\n",
      "changed: [192.5.87.208]\n",
      "\n",
      "TASK [Get the home directory] **************************************************\n",
      "changed: [192.5.87.208]\n",
      "\n",
      "TASK [create work dir] *********************************************************\n",
      "changed: [192.5.87.208]\n",
      "\n",
      "TASK [Change ownership of acto dir] ********************************************\n",
      "changed: [192.5.87.208]\n",
      "\n",
      "PLAY [Install go] **************************************************************\n",
      "\n",
      "TASK [Gathering Facts] *********************************************************\n",
      "ok: [192.5.87.208]\n",
      "\n",
      "TASK [Remove old go] ***********************************************************\n",
      "ok: [192.5.87.208]\n",
      "\n",
      "TASK [Get the home directory] **************************************************\n",
      "changed: [192.5.87.208]\n",
      "\n",
      "TASK [Print home dir to control node] ******************************************\n",
      "ok: [192.5.87.208] => {\n",
      "    \"msg\": \"Home dir is /home/cc\"\n",
      "}\n",
      "\n",
      "TASK [Extract go1.18.2.linux-amd64.tar.gz into /usr/local/go] ******************\n",
      "changed: [192.5.87.208]\n",
      "\n",
      "TASK [Add PATH init value to bashrc] *******************************************\n",
      "changed: [192.5.87.208]\n",
      "\n",
      "TASK [Add go to bashrc] ********************************************************\n",
      "changed: [192.5.87.208]\n",
      "\n",
      "TASK [Set GOPATH] **************************************************************\n",
      "changed: [192.5.87.208]\n",
      "\n",
      "TASK [Add GOPATH/bin to bashrc] ************************************************\n",
      "changed: [192.5.87.208]\n",
      "\n",
      "TASK [Test installed go version] ***********************************************\n",
      "changed: [192.5.87.208]\n",
      "\n",
      "TASK [Show output of go version] ***********************************************\n",
      "ok: [192.5.87.208] => {\n",
      "    \"msg\": \"Go Version Output: go version go1.18.2 linux/amd64\"\n",
      "}\n",
      "\n",
      "PLAY [Install Docker] **********************************************************\n",
      "\n",
      "TASK [Gathering Facts] *********************************************************\n",
      "ok: [192.5.87.208]\n",
      "\n",
      "TASK [Update apt packages] *****************************************************\n",
      "changed: [192.5.87.208]\n",
      "\n",
      "TASK [Install packages needed for Docker] **************************************\n",
      "ok: [192.5.87.208]\n",
      "\n",
      "TASK [add GPG key] *************************************************************\n",
      "changed: [192.5.87.208]\n",
      "\n",
      "TASK [Save the current Ubuntu release version into a variable] *****************\n",
      "changed: [192.5.87.208]\n",
      "\n",
      "TASK [Get the arch] ************************************************************\n",
      "changed: [192.5.87.208]\n",
      "\n",
      "TASK [Add Docker Repository] ***************************************************\n",
      "changed: [192.5.87.208]\n",
      "\n",
      "TASK [Update apt packages] *****************************************************\n",
      "changed: [192.5.87.208]\n",
      "\n",
      "TASK [Install Docker] **********************************************************\n",
      "changed: [192.5.87.208]\n",
      "\n",
      "TASK [Test Docker with hello world example] ************************************\n",
      "changed: [192.5.87.208]\n",
      "\n",
      "TASK [Show output of hello word example] ***************************************\n",
      "ok: [192.5.87.208] => {\n",
      "    \"msg\": \"Container Output: \\nHello from Docker!\\nThis message shows that your installation appears to be working correctly.\\n\\nTo generate this message, Docker took the following steps:\\n 1. The Docker client contacted the Docker daemon.\\n 2. The Docker daemon pulled the \\\"hello-world\\\" image from the Docker Hub.\\n    (amd64)\\n 3. The Docker daemon created a new container from that image which runs the\\n    executable that produces the output you are currently reading.\\n 4. The Docker daemon streamed that output to the Docker client, which sent it\\n    to your terminal.\\n\\nTo try something more ambitious, you can run an Ubuntu container with:\\n $ docker run -it ubuntu bash\\n\\nShare images, automate workflows, and more with a free Docker ID:\\n https://hub.docker.com/\\n\\nFor more examples and ideas, visit:\\n https://docs.docker.com/get-started/\"\n",
      "}\n",
      "\n",
      "TASK [Create docker group] *****************************************************\n",
      "ok: [192.5.87.208]\n",
      "\n",
      "TASK [Get user] ****************************************************************\n",
      "changed: [192.5.87.208]\n",
      "\n",
      "TASK [Adding user cc to docker group] ******************************************\n",
      "changed: [192.5.87.208]\n",
      "\n",
      "PLAY [Install Acto] ************************************************************\n",
      "\n",
      "TASK [Gathering Facts] *********************************************************\n",
      "ok: [192.5.87.208]\n",
      "\n",
      "TASK [create Acto dir] *********************************************************\n",
      "changed: [192.5.87.208]\n",
      "\n",
      "TASK [clone Acto repo] *********************************************************\n",
      "changed: [192.5.87.208]\n",
      "\n",
      "PLAY [Install python packages] *************************************************\n",
      "\n",
      "TASK [Gathering Facts] *********************************************************\n",
      "ok: [192.5.87.208]\n",
      "\n",
      "TASK [Add python repository] ***************************************************\n",
      "changed: [192.5.87.208]\n",
      "\n",
      "TASK [Install python3] *********************************************************\n",
      "ok: [192.5.87.208]\n",
      "\n",
      "TASK [Install pip3] ************************************************************\n",
      "changed: [192.5.87.208]\n",
      "\n",
      "TASK [Install python3 venv] ****************************************************\n",
      "ok: [192.5.87.208]\n",
      "\n",
      "TASK [Get the home directory] **************************************************\n",
      "changed: [192.5.87.208]\n",
      "\n",
      "TASK [Install python packages using pip] ***************************************\n",
      "changed: [192.5.87.208]\n",
      "\n",
      "PLAY [Install Kind] ************************************************************\n",
      "\n",
      "TASK [Gathering Facts] *********************************************************\n",
      "ok: [192.5.87.208]\n",
      "\n",
      "TASK [Get home dir] ************************************************************\n",
      "changed: [192.5.87.208]\n",
      "\n",
      "TASK [install kind] ************************************************************\n",
      "changed: [192.5.87.208]\n",
      "\n",
      "TASK [Test kind] ***************************************************************\n",
      "changed: [192.5.87.208]\n",
      "\n",
      "TASK [Show output of kind version] *********************************************\n",
      "ok: [192.5.87.208] => {\n",
      "    \"msg\": \"Kind Output: kind v0.21.0 go1.18.2 linux/amd64\"\n",
      "}\n",
      "\n",
      "PLAY [Install kubectl] *********************************************************\n",
      "\n",
      "TASK [Gathering Facts] *********************************************************\n",
      "ok: [192.5.87.208]\n",
      "\n",
      "TASK [download kubectl] ********************************************************\n"
     ]
    },
    {
     "name": "stderr",
     "output_type": "stream",
     "text": [
      "[WARNING]: Consider using the get_url or uri module rather than running 'curl'.\n",
      "If you need to use command because get_url or uri is insufficient you can add\n",
      "'warn: false' to this command task or set 'command_warnings=False' in\n",
      "ansible.cfg to get rid of this message.\n"
     ]
    },
    {
     "name": "stdout",
     "output_type": "stream",
     "text": [
      "changed: [192.5.87.208]\n",
      "\n",
      "TASK [install kubectl] *********************************************************\n",
      "changed: [192.5.87.208]\n",
      "\n",
      "PLAY [Configure system inotify params] *****************************************\n",
      "\n",
      "TASK [Gathering Facts] *********************************************************\n",
      "ok: [192.5.87.208]\n",
      "\n",
      "TASK [Configure fs.inotify.max_user_watches] ***********************************\n",
      "changed: [192.5.87.208]\n",
      "\n",
      "TASK [Configure fs.inotify.max_user_instances] *********************************\n",
      "changed: [192.5.87.208]\n",
      "\n",
      "TASK [Read parameter fs.inotify.max_user_watches value] ************************\n",
      "changed: [192.5.87.208]\n",
      "\n",
      "TASK [Read parameter fs.inotify.max_user_instances value] **********************\n",
      "changed: [192.5.87.208]\n",
      "\n",
      "TASK [Print configuration parameters] ******************************************\n",
      "ok: [192.5.87.208] => {\n",
      "    \"msg\": \"fs.inotify.max_user_watches = 1048576 \\n fs.inotify.max_user_instances = 1024\"\n",
      "}\n",
      "\n",
      "PLAY [Install K3D] *************************************************************\n",
      "\n",
      "TASK [Gathering Facts] *********************************************************\n",
      "ok: [192.5.87.208]\n",
      "\n",
      "TASK [install K3D] *************************************************************\n"
     ]
    },
    {
     "name": "stderr",
     "output_type": "stream",
     "text": [
      "[WARNING]: Consider using the get_url or uri module rather than running 'wget'.\n",
      "If you need to use command because get_url or uri is insufficient you can add\n",
      "'warn: false' to this command task or set 'command_warnings=False' in\n",
      "ansible.cfg to get rid of this message.\n"
     ]
    },
    {
     "name": "stdout",
     "output_type": "stream",
     "text": [
      "changed: [192.5.87.208]\n",
      "\n",
      "PLAY [Install k9s] *************************************************************\n",
      "\n",
      "TASK [Gathering Facts] *********************************************************\n",
      "ok: [192.5.87.208]\n",
      "\n",
      "TASK [download k9s tar.gz] *****************************************************\n",
      "changed: [192.5.87.208]\n",
      "\n",
      "TASK [extract k9s tar.gz] ******************************************************\n",
      "changed: [192.5.87.208]\n",
      "\n",
      "PLAY [Install htop] ************************************************************\n",
      "\n",
      "TASK [Gathering Facts] *********************************************************\n",
      "ok: [192.5.87.208]\n",
      "\n",
      "TASK [install htop] ************************************************************\n",
      "changed: [192.5.87.208]\n",
      "\n",
      "PLAY RECAP *********************************************************************\n",
      "192.5.87.208               : ok=62   changed=40   unreachable=0    failed=0    skipped=0    rescued=0    ignored=0   \n",
      "\n"
     ]
    },
    {
     "data": {
      "text/plain": [
       "CompletedProcess(args=['ansible-playbook', '-i', './ansible/ansible_hosts', './ansible/configure.yaml', '--key-file', '$HOME/work/.ssh/id_rsa'], returncode=0)"
      ]
     },
     "execution_count": 6,
     "metadata": {},
     "output_type": "execute_result"
    }
   ],
   "source": [
    "import os\n",
    "from chi import ssh\n",
    "import subprocess\n",
    "import sys\n",
    "\n",
    "subprocess.check_call([sys.executable, \"-m\", \"pip\", \"install\", \"ansible\"])\n",
    "subprocess.run([\"ansible-galaxy\", \"collection\", \"install\", \"ansible.posix\"])\n",
    "subprocess.run([\"ansible-galaxy\", \"collection\", \"install\", \"community.general\"])\n",
    "\n",
    "with open(\"./ansible/ansible_hosts\", mode=\"w\") as f:\n",
    "    f.write(\"{} ansible_connection=ssh ansible_user=cc ansible_port=22\".format(floating_ip))\n",
    "    \n",
    "os.system(\"cd ./ansible && ansible-playbook -i ansible_hosts configure.yaml --key-file /work/.ssh/id_rsa\")"
   ]
  },
  {
   "cell_type": "code",
   "execution_count": 7,
   "id": "6d5c9a07-0522-4797-85e3-bb3d1cb272aa",
   "metadata": {},
   "outputs": [
    {
     "name": "stderr",
     "output_type": "stream",
     "text": [
      "/opt/conda/lib/python3.10/site-packages/paramiko/client.py:852: UserWarning: Unknown ssh-ed25519 host key for 192.5.87.208: b'44c30a49bb8f1823870bf7a13ac139c9'\n",
      "  warnings.warn(\n"
     ]
    },
    {
     "name": "stdout",
     "output_type": "stream",
     "text": [
      "Defaulting to user installation because normal site-packages is not writeable\n",
      "Collecting deepdiff~=6.3.0\n",
      "  Using cached deepdiff-6.3.1-py3-none-any.whl (70 kB)\n",
      "Collecting kubernetes==22.6.0\n",
      "  Using cached kubernetes-22.6.0-py2.py3-none-any.whl (1.5 MB)\n",
      "Collecting exrex~=0.11.0\n",
      "  Using cached exrex-0.11.0-py2.py3-none-any.whl (23 kB)\n",
      "Collecting jsonschema~=4.17.3\n",
      "  Using cached jsonschema-4.17.3-py3-none-any.whl (90 kB)\n",
      "Collecting jsonpatch~=1.33\n",
      "  Using cached jsonpatch-1.33-py2.py3-none-any.whl (12 kB)\n",
      "Collecting pandas~=2.0.2\n",
      "  Using cached pandas-2.0.3-cp310-cp310-manylinux_2_17_x86_64.manylinux2014_x86_64.whl (12.3 MB)\n",
      "Collecting PyYAML~=6.0\n",
      "  Using cached PyYAML-6.0.1-cp310-cp310-manylinux_2_17_x86_64.manylinux2014_x86_64.whl (705 kB)\n",
      "Collecting requests~=2.31.0\n",
      "  Using cached requests-2.31.0-py3-none-any.whl (62 kB)\n",
      "Collecting pytest~=7.4.0\n",
      "  Using cached pytest-7.4.4-py3-none-any.whl (325 kB)\n",
      "Collecting pydantic~=1.10.9\n",
      "  Using cached pydantic-1.10.17-cp310-cp310-manylinux_2_17_x86_64.manylinux2014_x86_64.whl (3.1 MB)\n",
      "Collecting pytest-cov~=4.1.0\n",
      "  Using cached pytest_cov-4.1.0-py3-none-any.whl (21 kB)\n",
      "Collecting tabulate~=0.9.0\n",
      "  Using cached tabulate-0.9.0-py3-none-any.whl (35 kB)\n",
      "Requirement already satisfied: certifi>=14.05.14 in /usr/lib/python3/dist-packages (from kubernetes==22.6.0->-r ./workdir/acto/requirements.txt (line 2)) (2020.6.20)\n",
      "Requirement already satisfied: six>=1.9.0 in /usr/lib/python3/dist-packages (from kubernetes==22.6.0->-r ./workdir/acto/requirements.txt (line 2)) (1.16.0)\n",
      "Collecting google-auth>=1.0.1\n",
      "  Using cached google_auth-2.31.0-py2.py3-none-any.whl (194 kB)\n",
      "Collecting requests-oauthlib\n",
      "  Using cached requests_oauthlib-2.0.0-py2.py3-none-any.whl (24 kB)\n",
      "Requirement already satisfied: urllib3>=1.24.2 in /usr/lib/python3/dist-packages (from kubernetes==22.6.0->-r ./workdir/acto/requirements.txt (line 2)) (1.26.5)\n",
      "Collecting websocket-client!=0.40.0,!=0.41.*,!=0.42.*,>=0.32.0\n",
      "  Using cached websocket_client-1.8.0-py3-none-any.whl (58 kB)\n",
      "Requirement already satisfied: setuptools>=21.0.0 in /usr/lib/python3/dist-packages (from kubernetes==22.6.0->-r ./workdir/acto/requirements.txt (line 2)) (59.6.0)\n",
      "Collecting python-dateutil>=2.5.3\n",
      "  Using cached python_dateutil-2.9.0.post0-py2.py3-none-any.whl (229 kB)\n",
      "Collecting ordered-set<4.2.0,>=4.0.2\n",
      "  Using cached ordered_set-4.1.0-py3-none-any.whl (7.6 kB)\n",
      "Requirement already satisfied: attrs>=17.4.0 in /usr/lib/python3/dist-packages (from jsonschema~=4.17.3->-r ./workdir/acto/requirements.txt (line 4)) (21.2.0)\n",
      "Requirement already satisfied: pyrsistent!=0.17.0,!=0.17.1,!=0.17.2,>=0.14.0 in /usr/lib/python3/dist-packages (from jsonschema~=4.17.3->-r ./workdir/acto/requirements.txt (line 4)) (0.18.1)\n",
      "Requirement already satisfied: jsonpointer>=1.9 in /usr/lib/python3/dist-packages (from jsonpatch~=1.33->-r ./workdir/acto/requirements.txt (line 5)) (2.0)\n",
      "Collecting numpy>=1.21.0\n",
      "  Using cached numpy-2.0.0-cp310-cp310-manylinux_2_17_x86_64.manylinux2014_x86_64.whl (19.3 MB)\n",
      "Requirement already satisfied: pytz>=2020.1 in /usr/lib/python3/dist-packages (from pandas~=2.0.2->-r ./workdir/acto/requirements.txt (line 6)) (2022.1)\n",
      "Collecting tzdata>=2022.1\n",
      "  Using cached tzdata-2024.1-py2.py3-none-any.whl (345 kB)\n",
      "Requirement already satisfied: idna<4,>=2.5 in /usr/lib/python3/dist-packages (from requests~=2.31.0->-r ./workdir/acto/requirements.txt (line 8)) (3.3)\n",
      "Collecting charset-normalizer<4,>=2\n",
      "  Using cached charset_normalizer-3.3.2-cp310-cp310-manylinux_2_17_x86_64.manylinux2014_x86_64.whl (142 kB)\n",
      "Collecting iniconfig\n",
      "  Using cached iniconfig-2.0.0-py3-none-any.whl (5.9 kB)\n",
      "Collecting packaging\n",
      "  Using cached packaging-24.1-py3-none-any.whl (53 kB)\n",
      "Collecting pluggy<2.0,>=0.12\n",
      "  Using cached pluggy-1.5.0-py3-none-any.whl (20 kB)\n",
      "Collecting exceptiongroup>=1.0.0rc8\n",
      "  Using cached exceptiongroup-1.2.1-py3-none-any.whl (16 kB)\n",
      "Collecting tomli>=1.0.0\n",
      "  Using cached tomli-2.0.1-py3-none-any.whl (12 kB)\n",
      "Collecting typing-extensions>=4.2.0\n",
      "  Using cached typing_extensions-4.12.2-py3-none-any.whl (37 kB)\n",
      "Collecting coverage[toml]>=5.2.1\n",
      "  Using cached coverage-7.5.4-cp310-cp310-manylinux_2_5_x86_64.manylinux1_x86_64.manylinux_2_17_x86_64.manylinux2014_x86_64.whl (233 kB)\n",
      "Collecting cachetools<6.0,>=2.0.0\n",
      "  Using cached cachetools-5.3.3-py3-none-any.whl (9.3 kB)\n",
      "Collecting rsa<5,>=3.1.4\n",
      "  Using cached rsa-4.9-py3-none-any.whl (34 kB)\n",
      "Requirement already satisfied: pyasn1-modules>=0.2.1 in /usr/lib/python3/dist-packages (from google-auth>=1.0.1->kubernetes==22.6.0->-r ./workdir/acto/requirements.txt (line 2)) (0.2.1)\n",
      "Requirement already satisfied: oauthlib>=3.0.0 in /usr/lib/python3/dist-packages (from requests-oauthlib->kubernetes==22.6.0->-r ./workdir/acto/requirements.txt (line 2)) (3.2.0)\n",
      "Requirement already satisfied: pyasn1>=0.1.3 in /usr/lib/python3/dist-packages (from rsa<5,>=3.1.4->google-auth>=1.0.1->kubernetes==22.6.0->-r ./workdir/acto/requirements.txt (line 2)) (0.4.8)\n",
      "Installing collected packages: exrex, websocket-client, tzdata, typing-extensions, tomli, tabulate, rsa, PyYAML, python-dateutil, pluggy, packaging, ordered-set, numpy, jsonschema, jsonpatch, iniconfig, exceptiongroup, coverage, charset-normalizer, cachetools, requests, pytest, pydantic, pandas, google-auth, deepdiff, requests-oauthlib, pytest-cov, kubernetes\n"
     ]
    },
    {
     "name": "stderr",
     "output_type": "stream",
     "text": [
      "  WARNING: The script exrex is installed in '/home/cc/.local/bin' which is not on PATH.\n",
      "  Consider adding this directory to PATH or, if you prefer to suppress this warning, use --no-warn-script-location.\n",
      "  WARNING: The script wsdump is installed in '/home/cc/.local/bin' which is not on PATH.\n",
      "  Consider adding this directory to PATH or, if you prefer to suppress this warning, use --no-warn-script-location.\n",
      "  WARNING: The script tabulate is installed in '/home/cc/.local/bin' which is not on PATH.\n",
      "  Consider adding this directory to PATH or, if you prefer to suppress this warning, use --no-warn-script-location.\n",
      "  WARNING: The scripts pyrsa-decrypt, pyrsa-encrypt, pyrsa-keygen, pyrsa-priv2pub, pyrsa-sign and pyrsa-verify are installed in '/home/cc/.local/bin' which is not on PATH.\n",
      "  Consider adding this directory to PATH or, if you prefer to suppress this warning, use --no-warn-script-location.\n",
      "  WARNING: The scripts f2py and numpy-config are installed in '/home/cc/.local/bin' which is not on PATH.\n",
      "  Consider adding this directory to PATH or, if you prefer to suppress this warning, use --no-warn-script-location.\n",
      "  WARNING: The script jsonschema is installed in '/home/cc/.local/bin' which is not on PATH.\n",
      "  Consider adding this directory to PATH or, if you prefer to suppress this warning, use --no-warn-script-location.\n",
      "  WARNING: The scripts coverage, coverage-3.10 and coverage3 are installed in '/home/cc/.local/bin' which is not on PATH.\n",
      "  Consider adding this directory to PATH or, if you prefer to suppress this warning, use --no-warn-script-location.\n",
      "  WARNING: The script normalizer is installed in '/home/cc/.local/bin' which is not on PATH.\n",
      "  Consider adding this directory to PATH or, if you prefer to suppress this warning, use --no-warn-script-location.\n",
      "  WARNING: The scripts py.test and pytest are installed in '/home/cc/.local/bin' which is not on PATH.\n",
      "  Consider adding this directory to PATH or, if you prefer to suppress this warning, use --no-warn-script-location.\n",
      "  WARNING: The script deep is installed in '/home/cc/.local/bin' which is not on PATH.\n",
      "  Consider adding this directory to PATH or, if you prefer to suppress this warning, use --no-warn-script-location.\n"
     ]
    },
    {
     "name": "stdout",
     "output_type": "stream",
     "text": [
      "Successfully installed PyYAML-6.0.1 cachetools-5.3.3 charset-normalizer-3.3.2 coverage-7.5.4 deepdiff-6.3.1 exceptiongroup-1.2.1 exrex-0.11.0 google-auth-2.31.0 iniconfig-2.0.0 jsonpatch-1.33 jsonschema-4.17.3 kubernetes-22.6.0 numpy-2.0.0 ordered-set-4.1.0 packaging-24.1 pandas-2.0.3 pluggy-1.5.0 pydantic-1.10.17 pytest-7.4.4 pytest-cov-4.1.0 python-dateutil-2.9.0.post0 requests-2.31.0 requests-oauthlib-2.0.0 rsa-4.9 tabulate-0.9.0 tomli-2.0.1 typing-extensions-4.12.2 tzdata-2024.1 websocket-client-1.8.0\n",
      "Defaulting to user installation because normal site-packages is not writeable\n",
      "Collecting numpy<1.24\n",
      "  Downloading numpy-1.23.5-cp310-cp310-manylinux_2_17_x86_64.manylinux2014_x86_64.whl (17.1 MB)\n",
      "     ━━━━━━━━━━━━━━━━━━━━━━━━━━━━━━━━━━━━━━━━ 17.1/17.1 MB 61.1 MB/s eta 0:00:00\n",
      "Installing collected packages: numpy\n",
      "  Attempting uninstall: numpy\n",
      "    Found existing installation: numpy 2.0.0\n",
      "    Uninstalling numpy-2.0.0:\n",
      "      Successfully uninstalled numpy-2.0.0\n"
     ]
    },
    {
     "name": "stderr",
     "output_type": "stream",
     "text": [
      "  WARNING: The scripts f2py, f2py3 and f2py3.10 are installed in '/home/cc/.local/bin' which is not on PATH.\n",
      "  Consider adding this directory to PATH or, if you prefer to suppress this warning, use --no-warn-script-location.\n"
     ]
    },
    {
     "name": "stdout",
     "output_type": "stream",
     "text": [
      "Successfully installed numpy-1.23.5\n",
      "make: Entering directory '/home/cc/workdir/acto'\n",
      "(cd acto/k8s_util/lib && make)\n",
      "make[1]: Entering directory '/home/cc/workdir/acto/acto/k8s_util/lib'\n",
      "go build -buildmode=c-shared -o k8sutil.so k8sutil.go\n"
     ]
    },
    {
     "name": "stderr",
     "output_type": "stream",
     "text": [
      "go: downloading k8s.io/apimachinery v0.24.0\n",
      "go: downloading gopkg.in/inf.v0 v0.9.1\n",
      "go: downloading github.com/gogo/protobuf v1.3.2\n"
     ]
    },
    {
     "name": "stdout",
     "output_type": "stream",
     "text": [
      "gcc test.c -o test ./k8sutil.so\n",
      "make[1]: Leaving directory '/home/cc/workdir/acto/acto/k8s_util/lib'\n",
      "(cd ssa && make)\n",
      "make[1]: Entering directory '/home/cc/workdir/acto/ssa'\n",
      "go build -buildmode=c-shared -o libanalysis.so ssa.go\n"
     ]
    },
    {
     "name": "stderr",
     "output_type": "stream",
     "text": [
      "go: downloading golang.org/x/tools v0.1.10\n",
      "go: downloading github.com/goki/ki v1.1.8\n",
      "go: downloading github.com/jinzhu/copier v0.3.2\n",
      "go: downloading golang.org/x/sys v0.0.0-20220520151302-bc2c85ada10a\n",
      "go: downloading golang.org/x/xerrors v0.0.0-20220517211312-f3a8303e98df\n",
      "go: downloading golang.org/x/mod v0.6.0-dev.0.20220106191415-9b9b3d81d5e3\n"
     ]
    },
    {
     "name": "stdout",
     "output_type": "stream",
     "text": [
      "make[1]: Leaving directory '/home/cc/workdir/acto/ssa'\n",
      "make: Leaving directory '/home/cc/workdir/acto'\n"
     ]
    }
   ],
   "source": [
    "from chi import ssh\n",
    "\n",
    "with ssh.Remote(floating_ip) as conn:\n",
    "    conn.put(\"requirements.sh\")\n",
    "    conn.run(\"bash requirements.sh\")"
   ]
  },
  {
   "cell_type": "markdown",
   "id": "ba02ee58-3571-4565-bd2c-713066c59753",
   "metadata": {},
   "source": [
    "## Run the experiment\n",
    "Following the instructions, you will reproduce all the bugs (56 in total) that found by Acto and confirmed by developpers.\n",
    "\n",
    "The process will take approximately 6 hours. "
   ]
  },
  {
   "cell_type": "code",
   "execution_count": 8,
   "id": "82bfeeb9-1f78-4c79-b96a-4d59cdddf8e6",
   "metadata": {
    "tags": []
   },
   "outputs": [
    {
     "name": "stdout",
     "output_type": "stream",
     "text": [
      "Start reproducing all bugs...\n",
      "Please wait 6 hours...\n"
     ]
    }
   ],
   "source": [
    "from chi import ssh\n",
    "\n",
    "with ssh.Remote(floating_ip) as conn:\n",
    "    conn.put(\"start_acto.sh\")\n",
    "    print(\"Start reproducing all bugs...\")\n",
    "    print(\"Please wait 6 hours...\")\n",
    "    conn.run(\"bash start_acto.sh\", disown=True)"
   ]
  },
  {
   "cell_type": "markdown",
   "id": "372ca7a6",
   "metadata": {},
   "source": [
    "# Generate Results\n",
    "\n",
    "The following commands can run independently and will gather all the results from the reproduction. It will generate Tables 5, 6, 7, and 8 of the paper."
   ]
  },
  {
   "cell_type": "code",
   "execution_count": 1,
   "id": "4d9bdb0e-dbca-4b7b-8523-57690df88958",
   "metadata": {},
   "outputs": [
    {
     "name": "stdout",
     "output_type": "stream",
     "text": [
      "Table 5:\n",
      "Operator         Undesired State    System Error    Operator Error    Recovery Failure    Total\n",
      "-------------  -----------------  --------------  ----------------  ------------------  -------\n",
      "CassOp                         2               0                 0                   2        4\n",
      "CockroachOp                    3               0                 2                   0        5\n",
      "KnativeOp                      1               0                 2                   0        3\n",
      "OCK-RedisOp                    4               1                 3                   1        9\n",
      "OFC-MongoDBOp                  3               1                 2                   2        8\n",
      "PCN-MongoDBOp                  4               0                 0                   1        5\n",
      "RabbitMQOp                     3               0                 0                   0        3\n",
      "SAH-RedisOp                    2               0                 0                   1        3\n",
      "TiDBOp                         2               1                 0                   1        4\n",
      "XtraDBOp                       4               0                 1                   1        6\n",
      "ZookeeperOp                    4               1                 0                   1        6\n",
      "Total                         32               4                10                  10       56\n",
      "\n",
      "Table 6:\n",
      "Consequence          # Bugs\n",
      "-----------------  --------\n",
      "System failure            5\n",
      "Reliability issue        15\n",
      "Security issue            2\n",
      "Resource issue            9\n",
      "Operation outage         18\n",
      "Misconfiguration         15\n",
      "\n",
      "Table 7:\n",
      "Test Oracle                                          # Bugs (Percentage)\n",
      "---------------------------------------------------  ---------------------\n",
      "Consistency oracle                                   23 (41.07%)\n",
      "Differential oracle for normal state transition      25 (44.64%)\n",
      "Differential oracle for rollback state transition    10 (17.86%)\n",
      "Regular error check (e.g., exceptions, error codes)  14 (25.00%)\n",
      "\n",
      "Table 8:\n",
      "Operator         # Operations\n",
      "-------------  --------------\n",
      "CassOp                    568\n",
      "CockroachOp               371\n",
      "KnativeOp                 774\n",
      "OCK-RedisOp               597\n",
      "OFC-MongoDBOp             434\n",
      "PCN-MongoDBOp            1749\n",
      "RabbitMQOp                394\n",
      "SAH-RedisOp               718\n",
      "TiDBOp                    824\n",
      "XtraDBOp                 1950\n",
      "ZookeeperOp               740\n"
     ]
    }
   ],
   "source": [
    "from chi import ssh\n",
    "\n",
    "with open(\"floating_ip.txt\", \"r\") as f:\n",
    "    floating_ip = f.read().strip()\n",
    "    \n",
    "with ssh.Remote(floating_ip) as conn:\n",
    "    conn.get(\"./workdir/acto/table5.txt\")\n",
    "    conn.get(\"./workdir/acto/table6.txt\")\n",
    "    conn.get(\"./workdir/acto/table7.txt\")\n",
    "    \n",
    "with open('table5.txt', 'r') as f:\n",
    "    print(\"Table 5:\\n\" + f.read() + \"\\n\")\n",
    "    \n",
    "with open('table6.txt', 'r') as f:\n",
    "    print(\"Table 6:\\n\" + f.read() + \"\\n\")\n",
    "    \n",
    "with open('table7.txt', 'r') as f:\n",
    "    print(\"Table 7:\\n\" + f.read() + \"\\n\")\n",
    "    \n",
    "with ssh.Remote(floating_ip) as conn:\n",
    "    print(\"Table 8:\")\n",
    "    conn.run(\"cd ./workdir/acto/ && python3 collect_number_of_ops.py\")"
   ]
  }
 ],
 "metadata": {
  "kernelspec": {
   "display_name": "Python 3 (ipykernel)",
   "language": "python",
   "name": "python3"
  },
  "language_info": {
   "codemirror_mode": {
    "name": "ipython",
    "version": 3
   },
   "file_extension": ".py",
   "mimetype": "text/x-python",
   "name": "python",
   "nbconvert_exporter": "python",
   "pygments_lexer": "ipython3",
   "version": "3.10.9"
  }
 },
 "nbformat": 4,
 "nbformat_minor": 5
}
